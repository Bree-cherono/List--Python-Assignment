{
 "cells": [
  {
   "cell_type": "markdown",
   "id": "64c84e50",
   "metadata": {},
   "source": [
    "# List Assignment \n"
   ]
  },
  {
   "cell_type": "code",
   "execution_count": 47,
   "id": "93a4f8c5",
   "metadata": {},
   "outputs": [],
   "source": [
    "# Create an empty list\n",
    "my_list = []\n"
   ]
  },
  {
   "cell_type": "code",
   "execution_count": 48,
   "id": "5f7387f1",
   "metadata": {},
   "outputs": [
    {
     "name": "stdout",
     "output_type": "stream",
     "text": [
      "[10, 20, 30, 40]\n"
     ]
    }
   ],
   "source": [
    "# Appending the  elements to my_list\n",
    "my_list.append(10)\n",
    "my_list.append(20)\n",
    "my_list.append(30)\n",
    "my_list.append(40)\n",
    "print(my_list)"
   ]
  },
  {
   "cell_type": "code",
   "execution_count": 49,
   "id": "08bcd2ae",
   "metadata": {},
   "outputs": [
    {
     "name": "stdout",
     "output_type": "stream",
     "text": [
      "[10, 15, 20, 30, 40]\n"
     ]
    }
   ],
   "source": [
    "# Insert the value 15 at the second position .\n",
    "my_list.insert(1, 15)\n",
    "print(my_list)"
   ]
  },
  {
   "cell_type": "code",
   "execution_count": 50,
   "id": "ab46bbf0",
   "metadata": {},
   "outputs": [
    {
     "name": "stdout",
     "output_type": "stream",
     "text": [
      "[10, 15, 20, 30, 40, 50, 60, 70]\n"
     ]
    }
   ],
   "source": [
    "# Extending  with another list\n",
    "my_list.extend([50, 60, 70])\n",
    "print(my_list)"
   ]
  },
  {
   "cell_type": "code",
   "execution_count": 51,
   "id": "44618aa1",
   "metadata": {},
   "outputs": [
    {
     "name": "stdout",
     "output_type": "stream",
     "text": [
      "70\n",
      "[10, 15, 20, 30, 40, 50, 60]\n"
     ]
    }
   ],
   "source": [
    "# Removing  the last element from my_list\n",
    "last_element = my_list.pop()\n",
    "print(last_element)  \n",
    "print(my_list) \n"
   ]
  },
  {
   "cell_type": "code",
   "execution_count": 56,
   "id": "e868b0b1",
   "metadata": {},
   "outputs": [
    {
     "name": "stdout",
     "output_type": "stream",
     "text": [
      "[10, 15, 20, 30, 40, 50, 60]\n"
     ]
    }
   ],
   "source": [
    "# Sorting  my_list in ascending order.\n",
    "my_list.sort()\n",
    "print(my_list)  \n"
   ]
  },
  {
   "cell_type": "code",
   "execution_count": 52,
   "id": "293b8541",
   "metadata": {},
   "outputs": [
    {
     "name": "stdout",
     "output_type": "stream",
     "text": [
      "3\n"
     ]
    }
   ],
   "source": [
    "# Find and print the index of the value 30\n",
    "index_of_30 = my_list.index(30)\n",
    "print(index_of_30)"
   ]
  },
  {
   "cell_type": "code",
   "execution_count": null,
   "id": "a049e533",
   "metadata": {},
   "outputs": [],
   "source": []
  },
  {
   "cell_type": "code",
   "execution_count": null,
   "id": "674eefd2",
   "metadata": {},
   "outputs": [],
   "source": []
  }
 ],
 "metadata": {
  "kernelspec": {
   "display_name": "Python 3 (ipykernel)",
   "language": "python",
   "name": "python3"
  },
  "language_info": {
   "codemirror_mode": {
    "name": "ipython",
    "version": 3
   },
   "file_extension": ".py",
   "mimetype": "text/x-python",
   "name": "python",
   "nbconvert_exporter": "python",
   "pygments_lexer": "ipython3",
   "version": "3.11.5"
  }
 },
 "nbformat": 4,
 "nbformat_minor": 5
}
